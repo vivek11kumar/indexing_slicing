{
 "cells": [
  {
   "cell_type": "markdown",
   "id": "a4a24ee7",
   "metadata": {},
   "source": [
    "# Indexing and Slicing"
   ]
  },
  {
   "cell_type": "markdown",
   "id": "5e663464",
   "metadata": {},
   "source": [
    "# Indexing\n",
    "\n",
    "It is a process of fetching specific element from string or list or tuple using indexes.\n",
    "\n",
    "* Positive Indexing\n",
    "* Negative Indexing"
   ]
  },
  {
   "cell_type": "markdown",
   "id": "73da9e53",
   "metadata": {},
   "source": [
    "# Positive Indexing\n",
    "\n",
    "It is process of fetching single element from string or list or tuple using positive indexes.\n",
    "\n",
    "Positive index always starts with 0"
   ]
  },
  {
   "cell_type": "markdown",
   "id": "eb068b9b",
   "metadata": {},
   "source": [
    "# Positive indexing with list"
   ]
  },
  {
   "cell_type": "code",
   "execution_count": 1,
   "id": "c1e97f96",
   "metadata": {},
   "outputs": [
    {
     "name": "stdout",
     "output_type": "stream",
     "text": [
      "['red', 'green', 'blue', 'orange', 'yellow', 'black', 'white', 'pink', 'purple']\n",
      "<class 'list'>\n"
     ]
    }
   ],
   "source": [
    "colors = ['red', 'green', 'blue', 'orange', 'yellow', 'black', 'white', 'pink', 'purple']\n",
    "colors\n",
    "print(colors)\n",
    "print(type(colors))  # list is a data type in python"
   ]
  },
  {
   "cell_type": "code",
   "execution_count": 2,
   "id": "8a54ce7c",
   "metadata": {},
   "outputs": [
    {
     "data": {
      "text/plain": [
       "'red'"
      ]
     },
     "execution_count": 2,
     "metadata": {},
     "output_type": "execute_result"
    }
   ],
   "source": [
    "# fetch first item from list colors\n",
    "colors[0]"
   ]
  },
  {
   "cell_type": "code",
   "execution_count": 4,
   "id": "ba68cceb",
   "metadata": {},
   "outputs": [
    {
     "data": {
      "text/plain": [
       "'pink'"
      ]
     },
     "execution_count": 4,
     "metadata": {},
     "output_type": "execute_result"
    }
   ],
   "source": [
    "#fetch pink from list colors\n",
    "colors[7] # fetch pink from list colors"
   ]
  },
  {
   "cell_type": "code",
   "execution_count": 6,
   "id": "e97c3471",
   "metadata": {},
   "outputs": [
    {
     "data": {
      "text/plain": [
       "'orange'"
      ]
     },
     "execution_count": 6,
     "metadata": {},
     "output_type": "execute_result"
    }
   ],
   "source": [
    "# fetch orange from list colors\n",
    "colors[3] # fetch orange from list colors"
   ]
  },
  {
   "cell_type": "code",
   "execution_count": 7,
   "id": "612db151",
   "metadata": {},
   "outputs": [
    {
     "data": {
      "text/plain": [
       "'pink'"
      ]
     },
     "execution_count": 7,
     "metadata": {},
     "output_type": "execute_result"
    }
   ],
   "source": [
    "# fetch pink from list colors\n",
    "colors[7]   # fetch pink from list colors"
   ]
  },
  {
   "cell_type": "code",
   "execution_count": 8,
   "id": "f96e2aa9",
   "metadata": {},
   "outputs": [
    {
     "data": {
      "text/plain": [
       "'pink'"
      ]
     },
     "execution_count": 8,
     "metadata": {},
     "output_type": "execute_result"
    }
   ],
   "source": [
    "# indexing of elemts in list\n",
    "# 0      1       2        3        4        5        6        7        8\n",
    "# red,  green,   blue,   orange,  yellow,   black,   white,   pink,   purple\n",
    "# -9     -8      -7       -6       -5       -4      -3       -2      -1\n",
    "# -ve indexing starts with -1\n",
    "# Negative Indexing\n",
    "# It is process of fetching single element from string or list or tuple using negative indexes.\n",
    "colors.index('pink')  # it will give index of pink\n",
    "colors[-2]  # fetch pink from list colors using negative indexing"
   ]
  },
  {
   "cell_type": "code",
   "execution_count": 9,
   "id": "13fb16af",
   "metadata": {},
   "outputs": [
    {
     "data": {
      "text/plain": [
       "'pink'"
      ]
     },
     "execution_count": 9,
     "metadata": {},
     "output_type": "execute_result"
    }
   ],
   "source": [
    "colors[7] # fetch pink from list colors"
   ]
  },
  {
   "cell_type": "code",
   "execution_count": 10,
   "id": "c897497b",
   "metadata": {},
   "outputs": [
    {
     "data": {
      "text/plain": [
       "[(1, 'red'),\n",
       " (2, 'green'),\n",
       " (3, 'blue'),\n",
       " (4, 'orange'),\n",
       " (5, 'yellow'),\n",
       " (6, 'black'),\n",
       " (7, 'white'),\n",
       " (8, 'pink'),\n",
       " (9, 'purple')]"
      ]
     },
     "execution_count": 10,
     "metadata": {},
     "output_type": "execute_result"
    }
   ],
   "source": [
    "# list(enumerate(colors))  # it will give index of all elements in list\n",
    "list(enumerate(colors, start=1))  # it will give index of all elements in list starting from 1"
   ]
  },
  {
   "cell_type": "markdown",
   "id": "a43362c3",
   "metadata": {},
   "source": [
    "# Slicing\n",
    "\n",
    "It is the process of fetching multiple elements from a given object(string , tuple,set)"
   ]
  },
  {
   "cell_type": "code",
   "execution_count": 11,
   "id": "55c5c9a5",
   "metadata": {},
   "outputs": [
    {
     "data": {
      "text/plain": [
       "['red',\n",
       " 'green',\n",
       " 'blue',\n",
       " 'orange',\n",
       " 'yellow',\n",
       " 'black',\n",
       " 'white',\n",
       " 'pink',\n",
       " 'purple']"
      ]
     },
     "execution_count": 11,
     "metadata": {},
     "output_type": "execute_result"
    }
   ],
   "source": [
    "colors"
   ]
  },
  {
   "cell_type": "code",
   "execution_count": 13,
   "id": "9d052810",
   "metadata": {},
   "outputs": [
    {
     "data": {
      "text/plain": [
       "['green', 'blue', 'orange']"
      ]
     },
     "execution_count": 13,
     "metadata": {},
     "output_type": "execute_result"
    }
   ],
   "source": [
    "# fetch green, blue, orange from list colors\n",
    "colors[1:4]  # fetch green, blue, orange from list colors"
   ]
  },
  {
   "cell_type": "code",
   "execution_count": 14,
   "id": "bd8501ce",
   "metadata": {},
   "outputs": [
    {
     "data": {
      "text/plain": [
       "['yellow', 'black', 'white']"
      ]
     },
     "execution_count": 14,
     "metadata": {},
     "output_type": "execute_result"
    }
   ],
   "source": [
    "#fetch yellow, black, white from list colors\n",
    "colors[4:7]  # fetch yellow, black, white from list colors"
   ]
  },
  {
   "cell_type": "code",
   "execution_count": 16,
   "id": "117bf1d9",
   "metadata": {},
   "outputs": [
    {
     "data": {
      "text/plain": [
       "['black', 'white', 'pink', 'purple']"
      ]
     },
     "execution_count": 16,
     "metadata": {},
     "output_type": "execute_result"
    }
   ],
   "source": [
    "# black, white, pink, purple\n",
    "colors[5:9]  # black, white, pink, purple"
   ]
  },
  {
   "cell_type": "code",
   "execution_count": 17,
   "id": "813b482c",
   "metadata": {},
   "outputs": [
    {
     "data": {
      "text/plain": [
       "['red',\n",
       " 'green',\n",
       " 'blue',\n",
       " 'orange',\n",
       " 'yellow',\n",
       " 'black',\n",
       " 'white',\n",
       " 'pink',\n",
       " 'purple']"
      ]
     },
     "execution_count": 17,
     "metadata": {},
     "output_type": "execute_result"
    }
   ],
   "source": [
    "colors"
   ]
  },
  {
   "cell_type": "code",
   "execution_count": 20,
   "id": "534343a4",
   "metadata": {},
   "outputs": [
    {
     "data": {
      "text/plain": [
       "['blue', 'orange', 'yellow', 'black', 'white', 'pink', 'purple']"
      ]
     },
     "execution_count": 20,
     "metadata": {},
     "output_type": "execute_result"
    }
   ],
   "source": [
    "# fetch everything from blue color till the to end \n",
    "# variable_name[start_index:]\n",
    "colors[2:]"
   ]
  },
  {
   "cell_type": "code",
   "execution_count": 21,
   "id": "26a24814",
   "metadata": {},
   "outputs": [
    {
     "data": {
      "text/plain": [
       "['yellow', 'black', 'white', 'pink', 'purple']"
      ]
     },
     "execution_count": 21,
     "metadata": {},
     "output_type": "execute_result"
    }
   ],
   "source": [
    "# fetch everything from yellow color till the to end\n",
    "# variable_name[start_index:]\n",
    "colors[4:]"
   ]
  },
  {
   "cell_type": "code",
   "execution_count": 22,
   "id": "13d8488a",
   "metadata": {},
   "outputs": [
    {
     "data": {
      "text/plain": [
       "['red', 'green', 'blue', 'orange', 'yellow']"
      ]
     },
     "execution_count": 22,
     "metadata": {},
     "output_type": "execute_result"
    }
   ],
   "source": [
    "# fetch everything from start till yellow color\n",
    "# variable_name[:end_index+1]\n",
    "colors[:5]"
   ]
  },
  {
   "cell_type": "code",
   "execution_count": 23,
   "id": "0d5e5475",
   "metadata": {},
   "outputs": [
    {
     "data": {
      "text/plain": [
       "['red', 'green', 'blue', 'orange', 'yellow', 'black', 'white']"
      ]
     },
     "execution_count": 23,
     "metadata": {},
     "output_type": "execute_result"
    }
   ],
   "source": [
    "# fetch everything from start till white\n",
    "colors[:7]"
   ]
  },
  {
   "cell_type": "code",
   "execution_count": 24,
   "id": "647029b5",
   "metadata": {},
   "outputs": [
    {
     "data": {
      "text/plain": [
       "['red',\n",
       " 'green',\n",
       " 'blue',\n",
       " 'orange',\n",
       " 'yellow',\n",
       " 'black',\n",
       " 'white',\n",
       " 'pink',\n",
       " 'purple']"
      ]
     },
     "execution_count": 24,
     "metadata": {},
     "output_type": "execute_result"
    }
   ],
   "source": [
    "colors"
   ]
  },
  {
   "cell_type": "code",
   "execution_count": 25,
   "id": "1f40eb43",
   "metadata": {},
   "outputs": [
    {
     "data": {
      "text/plain": [
       "['green', 'orange', 'black']"
      ]
     },
     "execution_count": 25,
     "metadata": {},
     "output_type": "execute_result"
    }
   ],
   "source": [
    "# fetch green , orange ,black\n",
    "# variable_name[start_index : end_index+1:step]\n",
    "colors[1:7:2]  # fetch green , orange ,black"
   ]
  },
  {
   "cell_type": "code",
   "execution_count": 26,
   "id": "e9e64564",
   "metadata": {},
   "outputs": [
    {
     "data": {
      "text/plain": [
       "[(0, 'red'),\n",
       " (1, 'green'),\n",
       " (2, 'blue'),\n",
       " (3, 'orange'),\n",
       " (4, 'yellow'),\n",
       " (5, 'black'),\n",
       " (6, 'white'),\n",
       " (7, 'pink'),\n",
       " (8, 'purple')]"
      ]
     },
     "execution_count": 26,
     "metadata": {},
     "output_type": "execute_result"
    }
   ],
   "source": [
    "list(enumerate(colors))  # it will give index of all elements in list"
   ]
  },
  {
   "cell_type": "code",
   "execution_count": 27,
   "id": "20a3584f",
   "metadata": {},
   "outputs": [
    {
     "data": {
      "text/plain": [
       "['blue', 'orange', 'yellow', 'black', 'white', 'pink', 'purple']"
      ]
     },
     "execution_count": 27,
     "metadata": {},
     "output_type": "execute_result"
    }
   ],
   "source": [
    "# fetch everything from blue color till the end\n",
    "# variable_name[start_index:]\n",
    "colors[2:]"
   ]
  },
  {
   "cell_type": "code",
   "execution_count": 29,
   "id": "ca289fed",
   "metadata": {},
   "outputs": [
    {
     "data": {
      "text/plain": [
       "['yellow', 'black', 'white', 'pink', 'purple']"
      ]
     },
     "execution_count": 29,
     "metadata": {},
     "output_type": "execute_result"
    }
   ],
   "source": [
    "# fetch everything from yellow till end\n",
    "colors[4:]"
   ]
  },
  {
   "cell_type": "code",
   "execution_count": 30,
   "id": "1b063a65",
   "metadata": {},
   "outputs": [
    {
     "data": {
      "text/plain": [
       "['red', 'green', 'blue', 'orange', 'yellow']"
      ]
     },
     "execution_count": 30,
     "metadata": {},
     "output_type": "execute_result"
    }
   ],
   "source": [
    "# fetch everything from start till yellow color\n",
    "# variable_name[:end_index+1]\n",
    "colors[:5]"
   ]
  },
  {
   "cell_type": "code",
   "execution_count": 31,
   "id": "54af485a",
   "metadata": {},
   "outputs": [
    {
     "data": {
      "text/plain": [
       "['red', 'green', 'blue', 'orange', 'yellow', 'black', 'white']"
      ]
     },
     "execution_count": 31,
     "metadata": {},
     "output_type": "execute_result"
    }
   ],
   "source": [
    "# fetch everything from start till white\n",
    "colors[:7]"
   ]
  },
  {
   "cell_type": "code",
   "execution_count": 32,
   "id": "d7955e09",
   "metadata": {},
   "outputs": [
    {
     "data": {
      "text/plain": [
       "['red',\n",
       " 'green',\n",
       " 'blue',\n",
       " 'orange',\n",
       " 'yellow',\n",
       " 'black',\n",
       " 'white',\n",
       " 'pink',\n",
       " 'purple']"
      ]
     },
     "execution_count": 32,
     "metadata": {},
     "output_type": "execute_result"
    }
   ],
   "source": [
    "colors"
   ]
  },
  {
   "cell_type": "code",
   "execution_count": 33,
   "id": "eed5ab9d",
   "metadata": {},
   "outputs": [
    {
     "data": {
      "text/plain": [
       "[(0, 'red'),\n",
       " (1, 'green'),\n",
       " (2, 'blue'),\n",
       " (3, 'orange'),\n",
       " (4, 'yellow'),\n",
       " (5, 'black'),\n",
       " (6, 'white'),\n",
       " (7, 'pink'),\n",
       " (8, 'purple')]"
      ]
     },
     "execution_count": 33,
     "metadata": {},
     "output_type": "execute_result"
    }
   ],
   "source": [
    "list(enumerate(colors))  # it will give index of all elements in list"
   ]
  },
  {
   "cell_type": "code",
   "execution_count": 34,
   "id": "00890a59",
   "metadata": {},
   "outputs": [
    {
     "data": {
      "text/plain": [
       "['green', 'orange', 'black']"
      ]
     },
     "execution_count": 34,
     "metadata": {},
     "output_type": "execute_result"
    }
   ],
   "source": [
    "# fetch green , orange ,black\n",
    "# variable_name[start_index : end_index+1:step]\n",
    "colors[1:6:2]  # fetch green , orange ,black"
   ]
  },
  {
   "cell_type": "code",
   "execution_count": 35,
   "id": "a4839b73",
   "metadata": {},
   "outputs": [
    {
     "data": {
      "text/plain": [
       "['red', 'orange', 'white']"
      ]
     },
     "execution_count": 35,
     "metadata": {},
     "output_type": "execute_result"
    }
   ],
   "source": [
    "# fetch red ,orange,white\n",
    "colors[0:7:3]"
   ]
  },
  {
   "cell_type": "code",
   "execution_count": 36,
   "id": "afd7db62",
   "metadata": {},
   "outputs": [
    {
     "data": {
      "text/plain": [
       "['red', 'orange', 'white']"
      ]
     },
     "execution_count": 36,
     "metadata": {},
     "output_type": "execute_result"
    }
   ],
   "source": [
    "# everything 3rd element\n",
    "colors[::3]"
   ]
  },
  {
   "cell_type": "code",
   "execution_count": 37,
   "id": "56154462",
   "metadata": {},
   "outputs": [
    {
     "data": {
      "text/plain": [
       "['red', 'blue', 'yellow', 'white', 'purple']"
      ]
     },
     "execution_count": 37,
     "metadata": {},
     "output_type": "execute_result"
    }
   ],
   "source": [
    "# every second element\n",
    "colors[::2]"
   ]
  },
  {
   "cell_type": "code",
   "execution_count": 38,
   "id": "59ebd597",
   "metadata": {},
   "outputs": [
    {
     "data": {
      "text/plain": [
       "['red',\n",
       " 'green',\n",
       " 'blue',\n",
       " 'orange',\n",
       " 'yellow',\n",
       " 'black',\n",
       " 'white',\n",
       " 'pink',\n",
       " 'purple']"
      ]
     },
     "execution_count": 38,
     "metadata": {},
     "output_type": "execute_result"
    }
   ],
   "source": [
    "colors"
   ]
  },
  {
   "cell_type": "code",
   "execution_count": 39,
   "id": "91c735ae",
   "metadata": {},
   "outputs": [
    {
     "data": {
      "text/plain": [
       "[(0, 'red'),\n",
       " (1, 'green'),\n",
       " (2, 'blue'),\n",
       " (3, 'orange'),\n",
       " (4, 'yellow'),\n",
       " (5, 'black'),\n",
       " (6, 'white'),\n",
       " (7, 'pink'),\n",
       " (8, 'purple')]"
      ]
     },
     "execution_count": 39,
     "metadata": {},
     "output_type": "execute_result"
    }
   ],
   "source": [
    "list(enumerate(colors))  # it will give index of all elements in list"
   ]
  },
  {
   "cell_type": "markdown",
   "id": "3563e137",
   "metadata": {},
   "source": [
    "# slicing\n",
    "* A[index_no]\n",
    "* A[start_indx : end_ind+1]\n",
    "* A[start_indx:end_indx+1 :step]\n",
    "* A[:end_indx+1]\n",
    "* A[start_ind:]\n",
    "* A[::step]: to fetch every second element , every third element and so on.\n",
    "* elements cannot be fetched which has uneven different or random elements"
   ]
  },
  {
   "cell_type": "markdown",
   "id": "3987ca4a",
   "metadata": {},
   "source": [
    "# Indexing and Slicing with tuple"
   ]
  },
  {
   "cell_type": "code",
   "execution_count": 46,
   "id": "d1a0a309",
   "metadata": {},
   "outputs": [
    {
     "name": "stdout",
     "output_type": "stream",
     "text": [
      "(True, False, 3, 10, 25, 40, 'Python', 'sql', 3.14)\n",
      "<class 'tuple'>\n"
     ]
    }
   ],
   "source": [
    "# indexing and slicing with tuples\n",
    "a = (True,False,3,10,25,40,'Python','sql',3.14)\n",
    "print(a)\n",
    "print(type(a))  # tuple is a data type in python"
   ]
  },
  {
   "cell_type": "markdown",
   "id": "eb60ad9d",
   "metadata": {},
   "source": [
    "# Positive indexing"
   ]
  },
  {
   "cell_type": "code",
   "execution_count": 48,
   "id": "17e972da",
   "metadata": {},
   "outputs": [
    {
     "data": {
      "text/plain": [
       "True"
      ]
     },
     "execution_count": 48,
     "metadata": {},
     "output_type": "execute_result"
    }
   ],
   "source": [
    "# Positive indexing\n",
    "a[0] # fetch True from tuple a"
   ]
  },
  {
   "cell_type": "code",
   "execution_count": 49,
   "id": "a6657d6f",
   "metadata": {},
   "outputs": [
    {
     "data": {
      "text/plain": [
       "(True, False, 3, 10, 25, 40, 'Python', 'sql', 3.14)"
      ]
     },
     "execution_count": 49,
     "metadata": {},
     "output_type": "execute_result"
    }
   ],
   "source": [
    "a[::1] # fetch all elements from tuple a"
   ]
  },
  {
   "cell_type": "code",
   "execution_count": 50,
   "id": "9cf4e310",
   "metadata": {},
   "outputs": [
    {
     "data": {
      "text/plain": [
       "'sql'"
      ]
     },
     "execution_count": 50,
     "metadata": {},
     "output_type": "execute_result"
    }
   ],
   "source": [
    "# fetch sql from tuple a\n",
    "a[7]"
   ]
  },
  {
   "cell_type": "code",
   "execution_count": 51,
   "id": "c30aee07",
   "metadata": {},
   "outputs": [
    {
     "data": {
      "text/plain": [
       "'Python'"
      ]
     },
     "execution_count": 51,
     "metadata": {},
     "output_type": "execute_result"
    }
   ],
   "source": [
    "#fetch python from tuple a\n",
    "a[6]"
   ]
  },
  {
   "cell_type": "code",
   "execution_count": 52,
   "id": "41321e9b",
   "metadata": {},
   "outputs": [
    {
     "data": {
      "text/plain": [
       "(True, 10, 'Python')"
      ]
     },
     "execution_count": 52,
     "metadata": {},
     "output_type": "execute_result"
    }
   ],
   "source": [
    "# fetch every 3rd element from tuple a\n",
    "a[::3]"
   ]
  },
  {
   "cell_type": "code",
   "execution_count": 53,
   "id": "88701acc",
   "metadata": {},
   "outputs": [
    {
     "data": {
      "text/plain": [
       "(True, 3, 25, 'Python', 3.14)"
      ]
     },
     "execution_count": 53,
     "metadata": {},
     "output_type": "execute_result"
    }
   ],
   "source": [
    "# fetch every 2 nd element from tuple a\n",
    "a[::2]"
   ]
  },
  {
   "cell_type": "code",
   "execution_count": 54,
   "id": "7a94c774",
   "metadata": {},
   "outputs": [
    {
     "data": {
      "text/plain": [
       "('Python', 'sql', 3.14)"
      ]
     },
     "execution_count": 54,
     "metadata": {},
     "output_type": "execute_result"
    }
   ],
   "source": [
    "#fetch python,sql,3.14 from tuple a\n",
    "a[6:]"
   ]
  },
  {
   "cell_type": "code",
   "execution_count": 55,
   "id": "7473338e",
   "metadata": {},
   "outputs": [
    {
     "data": {
      "text/plain": [
       "('Python', 'sql', 3.14)"
      ]
     },
     "execution_count": 55,
     "metadata": {},
     "output_type": "execute_result"
    }
   ],
   "source": [
    "a[6:9:1]"
   ]
  },
  {
   "cell_type": "code",
   "execution_count": 57,
   "id": "c32a0d74",
   "metadata": {},
   "outputs": [
    {
     "data": {
      "text/plain": [
       "(True, False, 3, 10, 25, 40, 'Python', 'sql')"
      ]
     },
     "execution_count": 57,
     "metadata": {},
     "output_type": "execute_result"
    }
   ],
   "source": [
    "# fetch everything till sql\n",
    "a[:8]"
   ]
  },
  {
   "cell_type": "code",
   "execution_count": null,
   "id": "15116bf5",
   "metadata": {},
   "outputs": [],
   "source": []
  }
 ],
 "metadata": {
  "kernelspec": {
   "display_name": "Python 3",
   "language": "python",
   "name": "python3"
  },
  "language_info": {
   "codemirror_mode": {
    "name": "ipython",
    "version": 3
   },
   "file_extension": ".py",
   "mimetype": "text/x-python",
   "name": "python",
   "nbconvert_exporter": "python",
   "pygments_lexer": "ipython3",
   "version": "3.13.7"
  }
 },
 "nbformat": 4,
 "nbformat_minor": 5
}
