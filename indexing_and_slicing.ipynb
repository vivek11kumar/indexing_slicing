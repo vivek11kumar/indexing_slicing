{
 "cells": [
  {
   "cell_type": "markdown",
   "id": "a4a24ee7",
   "metadata": {},
   "source": [
    "# Indexing and Slicing"
   ]
  },
  {
   "cell_type": "markdown",
   "id": "5e663464",
   "metadata": {},
   "source": [
    "# Indexing\n",
    "\n",
    "It is a process of fetching specific element from string or list or tuple using indexes.\n",
    "\n",
    "* Positive Indexing\n",
    "* Negative Indexing"
   ]
  },
  {
   "cell_type": "markdown",
   "id": "73da9e53",
   "metadata": {},
   "source": [
    "# Positive Indexing\n",
    "\n",
    "It is process of fetching single element from string or list or tuple using positive indexes.\n",
    "\n",
    "Positive index always starts with 0"
   ]
  },
  {
   "cell_type": "markdown",
   "id": "eb068b9b",
   "metadata": {},
   "source": [
    "# Positive indexing with list"
   ]
  },
  {
   "cell_type": "code",
   "execution_count": 1,
   "id": "c1e97f96",
   "metadata": {},
   "outputs": [
    {
     "name": "stdout",
     "output_type": "stream",
     "text": [
      "['red', 'green', 'blue', 'orange', 'yellow', 'black', 'white', 'pink', 'purple']\n",
      "<class 'list'>\n"
     ]
    }
   ],
   "source": [
    "colors = ['red', 'green', 'blue', 'orange', 'yellow', 'black', 'white', 'pink', 'purple']\n",
    "colors\n",
    "print(colors)\n",
    "print(type(colors))  # list is a data type in python"
   ]
  },
  {
   "cell_type": "code",
   "execution_count": 2,
   "id": "8a54ce7c",
   "metadata": {},
   "outputs": [
    {
     "data": {
      "text/plain": [
       "'red'"
      ]
     },
     "execution_count": 2,
     "metadata": {},
     "output_type": "execute_result"
    }
   ],
   "source": [
    "# fetch first item from list colors\n",
    "colors[0]"
   ]
  },
  {
   "cell_type": "code",
   "execution_count": 4,
   "id": "ba68cceb",
   "metadata": {},
   "outputs": [
    {
     "data": {
      "text/plain": [
       "'pink'"
      ]
     },
     "execution_count": 4,
     "metadata": {},
     "output_type": "execute_result"
    }
   ],
   "source": [
    "#fetch pink from list colors\n",
    "colors[7] # fetch pink from list colors"
   ]
  },
  {
   "cell_type": "code",
   "execution_count": 6,
   "id": "e97c3471",
   "metadata": {},
   "outputs": [
    {
     "data": {
      "text/plain": [
       "'orange'"
      ]
     },
     "execution_count": 6,
     "metadata": {},
     "output_type": "execute_result"
    }
   ],
   "source": [
    "# fetch orange from list colors\n",
    "colors[3] # fetch orange from list colors"
   ]
  },
  {
   "cell_type": "code",
   "execution_count": 7,
   "id": "612db151",
   "metadata": {},
   "outputs": [
    {
     "data": {
      "text/plain": [
       "'pink'"
      ]
     },
     "execution_count": 7,
     "metadata": {},
     "output_type": "execute_result"
    }
   ],
   "source": [
    "# fetch pink from list colors\n",
    "colors[7]   # fetch pink from list colors"
   ]
  },
  {
   "cell_type": "code",
   "execution_count": 8,
   "id": "f96e2aa9",
   "metadata": {},
   "outputs": [
    {
     "data": {
      "text/plain": [
       "'pink'"
      ]
     },
     "execution_count": 8,
     "metadata": {},
     "output_type": "execute_result"
    }
   ],
   "source": [
    "# indexing of elemts in list\n",
    "# 0      1       2        3        4        5        6        7        8\n",
    "# red,  green,   blue,   orange,  yellow,   black,   white,   pink,   purple\n",
    "# -9     -8      -7       -6       -5       -4      -3       -2      -1\n",
    "# -ve indexing starts with -1\n",
    "# Negative Indexing\n",
    "# It is process of fetching single element from string or list or tuple using negative indexes.\n",
    "colors.index('pink')  # it will give index of pink\n",
    "colors[-2]  # fetch pink from list colors using negative indexing"
   ]
  },
  {
   "cell_type": "code",
   "execution_count": 9,
   "id": "13fb16af",
   "metadata": {},
   "outputs": [
    {
     "data": {
      "text/plain": [
       "'pink'"
      ]
     },
     "execution_count": 9,
     "metadata": {},
     "output_type": "execute_result"
    }
   ],
   "source": [
    "colors[7] # fetch pink from list colors"
   ]
  },
  {
   "cell_type": "code",
   "execution_count": 10,
   "id": "c897497b",
   "metadata": {},
   "outputs": [
    {
     "data": {
      "text/plain": [
       "[(1, 'red'),\n",
       " (2, 'green'),\n",
       " (3, 'blue'),\n",
       " (4, 'orange'),\n",
       " (5, 'yellow'),\n",
       " (6, 'black'),\n",
       " (7, 'white'),\n",
       " (8, 'pink'),\n",
       " (9, 'purple')]"
      ]
     },
     "execution_count": 10,
     "metadata": {},
     "output_type": "execute_result"
    }
   ],
   "source": [
    "# list(enumerate(colors))  # it will give index of all elements in list\n",
    "list(enumerate(colors, start=1))  # it will give index of all elements in list starting from 1"
   ]
  },
  {
   "cell_type": "markdown",
   "id": "a43362c3",
   "metadata": {},
   "source": [
    "# Slicing\n",
    "\n",
    "It is the process of fetching multiple elements from a given object(string , tuple,set)"
   ]
  },
  {
   "cell_type": "code",
   "execution_count": 11,
   "id": "55c5c9a5",
   "metadata": {},
   "outputs": [
    {
     "data": {
      "text/plain": [
       "['red',\n",
       " 'green',\n",
       " 'blue',\n",
       " 'orange',\n",
       " 'yellow',\n",
       " 'black',\n",
       " 'white',\n",
       " 'pink',\n",
       " 'purple']"
      ]
     },
     "execution_count": 11,
     "metadata": {},
     "output_type": "execute_result"
    }
   ],
   "source": [
    "colors"
   ]
  },
  {
   "cell_type": "code",
   "execution_count": 13,
   "id": "9d052810",
   "metadata": {},
   "outputs": [
    {
     "data": {
      "text/plain": [
       "['green', 'blue', 'orange']"
      ]
     },
     "execution_count": 13,
     "metadata": {},
     "output_type": "execute_result"
    }
   ],
   "source": [
    "# fetch green, blue, orange from list colors\n",
    "colors[1:4]  # fetch green, blue, orange from list colors"
   ]
  },
  {
   "cell_type": "code",
   "execution_count": 14,
   "id": "bd8501ce",
   "metadata": {},
   "outputs": [
    {
     "data": {
      "text/plain": [
       "['yellow', 'black', 'white']"
      ]
     },
     "execution_count": 14,
     "metadata": {},
     "output_type": "execute_result"
    }
   ],
   "source": [
    "#fetch yellow, black, white from list colors\n",
    "colors[4:7]  # fetch yellow, black, white from list colors"
   ]
  },
  {
   "cell_type": "code",
   "execution_count": 16,
   "id": "117bf1d9",
   "metadata": {},
   "outputs": [
    {
     "data": {
      "text/plain": [
       "['black', 'white', 'pink', 'purple']"
      ]
     },
     "execution_count": 16,
     "metadata": {},
     "output_type": "execute_result"
    }
   ],
   "source": [
    "# black, white, pink, purple\n",
    "colors[5:9]  # black, white, pink, purple"
   ]
  },
  {
   "cell_type": "code",
   "execution_count": 17,
   "id": "813b482c",
   "metadata": {},
   "outputs": [
    {
     "data": {
      "text/plain": [
       "['red',\n",
       " 'green',\n",
       " 'blue',\n",
       " 'orange',\n",
       " 'yellow',\n",
       " 'black',\n",
       " 'white',\n",
       " 'pink',\n",
       " 'purple']"
      ]
     },
     "execution_count": 17,
     "metadata": {},
     "output_type": "execute_result"
    }
   ],
   "source": [
    "colors"
   ]
  },
  {
   "cell_type": "code",
   "execution_count": 20,
   "id": "534343a4",
   "metadata": {},
   "outputs": [
    {
     "data": {
      "text/plain": [
       "['blue', 'orange', 'yellow', 'black', 'white', 'pink', 'purple']"
      ]
     },
     "execution_count": 20,
     "metadata": {},
     "output_type": "execute_result"
    }
   ],
   "source": [
    "# fetch everything from blue color till the to end \n",
    "# variable_name[start_index:]\n",
    "colors[2:]"
   ]
  },
  {
   "cell_type": "code",
   "execution_count": 21,
   "id": "26a24814",
   "metadata": {},
   "outputs": [
    {
     "data": {
      "text/plain": [
       "['yellow', 'black', 'white', 'pink', 'purple']"
      ]
     },
     "execution_count": 21,
     "metadata": {},
     "output_type": "execute_result"
    }
   ],
   "source": [
    "# fetch everything from yellow color till the to end\n",
    "# variable_name[start_index:]\n",
    "colors[4:]"
   ]
  },
  {
   "cell_type": "code",
   "execution_count": 22,
   "id": "13d8488a",
   "metadata": {},
   "outputs": [
    {
     "data": {
      "text/plain": [
       "['red', 'green', 'blue', 'orange', 'yellow']"
      ]
     },
     "execution_count": 22,
     "metadata": {},
     "output_type": "execute_result"
    }
   ],
   "source": [
    "# fetch everything from start till yellow color\n",
    "# variable_name[:end_index+1]\n",
    "colors[:5]"
   ]
  },
  {
   "cell_type": "code",
   "execution_count": 23,
   "id": "0d5e5475",
   "metadata": {},
   "outputs": [
    {
     "data": {
      "text/plain": [
       "['red', 'green', 'blue', 'orange', 'yellow', 'black', 'white']"
      ]
     },
     "execution_count": 23,
     "metadata": {},
     "output_type": "execute_result"
    }
   ],
   "source": [
    "# fetch everything from start till white\n",
    "colors[:7]"
   ]
  },
  {
   "cell_type": "code",
   "execution_count": 24,
   "id": "647029b5",
   "metadata": {},
   "outputs": [
    {
     "data": {
      "text/plain": [
       "['red',\n",
       " 'green',\n",
       " 'blue',\n",
       " 'orange',\n",
       " 'yellow',\n",
       " 'black',\n",
       " 'white',\n",
       " 'pink',\n",
       " 'purple']"
      ]
     },
     "execution_count": 24,
     "metadata": {},
     "output_type": "execute_result"
    }
   ],
   "source": [
    "colors"
   ]
  },
  {
   "cell_type": "code",
   "execution_count": 25,
   "id": "1f40eb43",
   "metadata": {},
   "outputs": [
    {
     "data": {
      "text/plain": [
       "['green', 'orange', 'black']"
      ]
     },
     "execution_count": 25,
     "metadata": {},
     "output_type": "execute_result"
    }
   ],
   "source": [
    "# fetch green , orange ,black\n",
    "# variable_name[start_index : end_index+1:step]\n",
    "colors[1:7:2]  # fetch green , orange ,black"
   ]
  },
  {
   "cell_type": "code",
   "execution_count": 26,
   "id": "e9e64564",
   "metadata": {},
   "outputs": [
    {
     "data": {
      "text/plain": [
       "[(0, 'red'),\n",
       " (1, 'green'),\n",
       " (2, 'blue'),\n",
       " (3, 'orange'),\n",
       " (4, 'yellow'),\n",
       " (5, 'black'),\n",
       " (6, 'white'),\n",
       " (7, 'pink'),\n",
       " (8, 'purple')]"
      ]
     },
     "execution_count": 26,
     "metadata": {},
     "output_type": "execute_result"
    }
   ],
   "source": [
    "list(enumerate(colors))  # it will give index of all elements in list"
   ]
  },
  {
   "cell_type": "code",
   "execution_count": 27,
   "id": "20a3584f",
   "metadata": {},
   "outputs": [
    {
     "data": {
      "text/plain": [
       "['blue', 'orange', 'yellow', 'black', 'white', 'pink', 'purple']"
      ]
     },
     "execution_count": 27,
     "metadata": {},
     "output_type": "execute_result"
    }
   ],
   "source": [
    "# fetch everything from blue color till the end\n",
    "# variable_name[start_index:]\n",
    "colors[2:]"
   ]
  },
  {
   "cell_type": "code",
   "execution_count": 29,
   "id": "ca289fed",
   "metadata": {},
   "outputs": [
    {
     "data": {
      "text/plain": [
       "['yellow', 'black', 'white', 'pink', 'purple']"
      ]
     },
     "execution_count": 29,
     "metadata": {},
     "output_type": "execute_result"
    }
   ],
   "source": [
    "# fetch everything from yellow till end\n",
    "colors[4:]"
   ]
  },
  {
   "cell_type": "code",
   "execution_count": 30,
   "id": "1b063a65",
   "metadata": {},
   "outputs": [
    {
     "data": {
      "text/plain": [
       "['red', 'green', 'blue', 'orange', 'yellow']"
      ]
     },
     "execution_count": 30,
     "metadata": {},
     "output_type": "execute_result"
    }
   ],
   "source": [
    "# fetch everything from start till yellow color\n",
    "# variable_name[:end_index+1]\n",
    "colors[:5]"
   ]
  },
  {
   "cell_type": "code",
   "execution_count": 31,
   "id": "54af485a",
   "metadata": {},
   "outputs": [
    {
     "data": {
      "text/plain": [
       "['red', 'green', 'blue', 'orange', 'yellow', 'black', 'white']"
      ]
     },
     "execution_count": 31,
     "metadata": {},
     "output_type": "execute_result"
    }
   ],
   "source": [
    "# fetch everything from start till white\n",
    "colors[:7]"
   ]
  },
  {
   "cell_type": "code",
   "execution_count": 32,
   "id": "d7955e09",
   "metadata": {},
   "outputs": [
    {
     "data": {
      "text/plain": [
       "['red',\n",
       " 'green',\n",
       " 'blue',\n",
       " 'orange',\n",
       " 'yellow',\n",
       " 'black',\n",
       " 'white',\n",
       " 'pink',\n",
       " 'purple']"
      ]
     },
     "execution_count": 32,
     "metadata": {},
     "output_type": "execute_result"
    }
   ],
   "source": [
    "colors"
   ]
  },
  {
   "cell_type": "code",
   "execution_count": 33,
   "id": "eed5ab9d",
   "metadata": {},
   "outputs": [
    {
     "data": {
      "text/plain": [
       "[(0, 'red'),\n",
       " (1, 'green'),\n",
       " (2, 'blue'),\n",
       " (3, 'orange'),\n",
       " (4, 'yellow'),\n",
       " (5, 'black'),\n",
       " (6, 'white'),\n",
       " (7, 'pink'),\n",
       " (8, 'purple')]"
      ]
     },
     "execution_count": 33,
     "metadata": {},
     "output_type": "execute_result"
    }
   ],
   "source": [
    "list(enumerate(colors))  # it will give index of all elements in list"
   ]
  },
  {
   "cell_type": "code",
   "execution_count": 34,
   "id": "00890a59",
   "metadata": {},
   "outputs": [
    {
     "data": {
      "text/plain": [
       "['green', 'orange', 'black']"
      ]
     },
     "execution_count": 34,
     "metadata": {},
     "output_type": "execute_result"
    }
   ],
   "source": [
    "# fetch green , orange ,black\n",
    "# variable_name[start_index : end_index+1:step]\n",
    "colors[1:6:2]  # fetch green , orange ,black"
   ]
  },
  {
   "cell_type": "code",
   "execution_count": 35,
   "id": "a4839b73",
   "metadata": {},
   "outputs": [
    {
     "data": {
      "text/plain": [
       "['red', 'orange', 'white']"
      ]
     },
     "execution_count": 35,
     "metadata": {},
     "output_type": "execute_result"
    }
   ],
   "source": [
    "# fetch red ,orange,white\n",
    "colors[0:7:3]"
   ]
  },
  {
   "cell_type": "code",
   "execution_count": 36,
   "id": "afd7db62",
   "metadata": {},
   "outputs": [
    {
     "data": {
      "text/plain": [
       "['red', 'orange', 'white']"
      ]
     },
     "execution_count": 36,
     "metadata": {},
     "output_type": "execute_result"
    }
   ],
   "source": [
    "# everything 3rd element\n",
    "colors[::3]"
   ]
  },
  {
   "cell_type": "code",
   "execution_count": 37,
   "id": "56154462",
   "metadata": {},
   "outputs": [
    {
     "data": {
      "text/plain": [
       "['red', 'blue', 'yellow', 'white', 'purple']"
      ]
     },
     "execution_count": 37,
     "metadata": {},
     "output_type": "execute_result"
    }
   ],
   "source": [
    "# every second element\n",
    "colors[::2]"
   ]
  },
  {
   "cell_type": "code",
   "execution_count": 38,
   "id": "59ebd597",
   "metadata": {},
   "outputs": [
    {
     "data": {
      "text/plain": [
       "['red',\n",
       " 'green',\n",
       " 'blue',\n",
       " 'orange',\n",
       " 'yellow',\n",
       " 'black',\n",
       " 'white',\n",
       " 'pink',\n",
       " 'purple']"
      ]
     },
     "execution_count": 38,
     "metadata": {},
     "output_type": "execute_result"
    }
   ],
   "source": [
    "colors"
   ]
  },
  {
   "cell_type": "code",
   "execution_count": 39,
   "id": "91c735ae",
   "metadata": {},
   "outputs": [
    {
     "data": {
      "text/plain": [
       "[(0, 'red'),\n",
       " (1, 'green'),\n",
       " (2, 'blue'),\n",
       " (3, 'orange'),\n",
       " (4, 'yellow'),\n",
       " (5, 'black'),\n",
       " (6, 'white'),\n",
       " (7, 'pink'),\n",
       " (8, 'purple')]"
      ]
     },
     "execution_count": 39,
     "metadata": {},
     "output_type": "execute_result"
    }
   ],
   "source": [
    "list(enumerate(colors))  # it will give index of all elements in list"
   ]
  },
  {
   "cell_type": "markdown",
   "id": "3563e137",
   "metadata": {},
   "source": [
    "# slicing\n",
    "* A[index_no]\n",
    "* A[start_indx : end_ind+1]\n",
    "* A[start_indx:end_indx+1 :step]\n",
    "* A[:end_indx+1]\n",
    "* A[start_ind:]\n",
    "* A[::step]: to fetch every second element , every third element and so on.\n",
    "* elements cannot be fetched which has uneven different or random elements"
   ]
  },
  {
   "cell_type": "markdown",
   "id": "3987ca4a",
   "metadata": {},
   "source": [
    "# Indexing and Slicing with tuple"
   ]
  },
  {
   "cell_type": "code",
   "execution_count": 46,
   "id": "d1a0a309",
   "metadata": {},
   "outputs": [
    {
     "name": "stdout",
     "output_type": "stream",
     "text": [
      "(True, False, 3, 10, 25, 40, 'Python', 'sql', 3.14)\n",
      "<class 'tuple'>\n"
     ]
    }
   ],
   "source": [
    "# indexing and slicing with tuples\n",
    "a = (True,False,3,10,25,40,'Python','sql',3.14)\n",
    "print(a)\n",
    "print(type(a))  # tuple is a data type in python"
   ]
  },
  {
   "cell_type": "markdown",
   "id": "eb60ad9d",
   "metadata": {},
   "source": [
    "# Positive indexing"
   ]
  },
  {
   "cell_type": "code",
   "execution_count": 48,
   "id": "17e972da",
   "metadata": {},
   "outputs": [
    {
     "data": {
      "text/plain": [
       "True"
      ]
     },
     "execution_count": 48,
     "metadata": {},
     "output_type": "execute_result"
    }
   ],
   "source": [
    "# Positive indexing\n",
    "a[0] # fetch True from tuple a"
   ]
  },
  {
   "cell_type": "code",
   "execution_count": 49,
   "id": "a6657d6f",
   "metadata": {},
   "outputs": [
    {
     "data": {
      "text/plain": [
       "(True, False, 3, 10, 25, 40, 'Python', 'sql', 3.14)"
      ]
     },
     "execution_count": 49,
     "metadata": {},
     "output_type": "execute_result"
    }
   ],
   "source": [
    "a[::1] # fetch all elements from tuple a"
   ]
  },
  {
   "cell_type": "code",
   "execution_count": 50,
   "id": "9cf4e310",
   "metadata": {},
   "outputs": [
    {
     "data": {
      "text/plain": [
       "'sql'"
      ]
     },
     "execution_count": 50,
     "metadata": {},
     "output_type": "execute_result"
    }
   ],
   "source": [
    "# fetch sql from tuple a\n",
    "a[7]"
   ]
  },
  {
   "cell_type": "code",
   "execution_count": 51,
   "id": "c30aee07",
   "metadata": {},
   "outputs": [
    {
     "data": {
      "text/plain": [
       "'Python'"
      ]
     },
     "execution_count": 51,
     "metadata": {},
     "output_type": "execute_result"
    }
   ],
   "source": [
    "#fetch python from tuple a\n",
    "a[6]"
   ]
  },
  {
   "cell_type": "code",
   "execution_count": 52,
   "id": "41321e9b",
   "metadata": {},
   "outputs": [
    {
     "data": {
      "text/plain": [
       "(True, 10, 'Python')"
      ]
     },
     "execution_count": 52,
     "metadata": {},
     "output_type": "execute_result"
    }
   ],
   "source": [
    "# fetch every 3rd element from tuple a\n",
    "a[::3]"
   ]
  },
  {
   "cell_type": "code",
   "execution_count": 53,
   "id": "88701acc",
   "metadata": {},
   "outputs": [
    {
     "data": {
      "text/plain": [
       "(True, 3, 25, 'Python', 3.14)"
      ]
     },
     "execution_count": 53,
     "metadata": {},
     "output_type": "execute_result"
    }
   ],
   "source": [
    "# fetch every 2 nd element from tuple a\n",
    "a[::2]"
   ]
  },
  {
   "cell_type": "code",
   "execution_count": 54,
   "id": "7a94c774",
   "metadata": {},
   "outputs": [
    {
     "data": {
      "text/plain": [
       "('Python', 'sql', 3.14)"
      ]
     },
     "execution_count": 54,
     "metadata": {},
     "output_type": "execute_result"
    }
   ],
   "source": [
    "#fetch python,sql,3.14 from tuple a\n",
    "a[6:]"
   ]
  },
  {
   "cell_type": "code",
   "execution_count": 55,
   "id": "7473338e",
   "metadata": {},
   "outputs": [
    {
     "data": {
      "text/plain": [
       "('Python', 'sql', 3.14)"
      ]
     },
     "execution_count": 55,
     "metadata": {},
     "output_type": "execute_result"
    }
   ],
   "source": [
    "a[6:9:1]"
   ]
  },
  {
   "cell_type": "code",
   "execution_count": 57,
   "id": "c32a0d74",
   "metadata": {},
   "outputs": [
    {
     "data": {
      "text/plain": [
       "(True, False, 3, 10, 25, 40, 'Python', 'sql')"
      ]
     },
     "execution_count": 57,
     "metadata": {},
     "output_type": "execute_result"
    }
   ],
   "source": [
    "# fetch everything till sql\n",
    "a[:8]"
   ]
  },
  {
   "cell_type": "markdown",
   "id": "0933c11a",
   "metadata": {},
   "source": [
    "# String Indexing and slicing"
   ]
  },
  {
   "cell_type": "code",
   "execution_count": 58,
   "id": "15116bf5",
   "metadata": {},
   "outputs": [
    {
     "name": "stdout",
     "output_type": "stream",
     "text": [
      "Python is a programming language. Python is easy to learn.\n",
      "<class 'str'>\n"
     ]
    }
   ],
   "source": [
    "text = \"Python is a programming language. Python is easy to learn.\"\n",
    "print(text)\n",
    "print(type(text))\n"
   ]
  },
  {
   "cell_type": "code",
   "execution_count": 59,
   "id": "1645daaf",
   "metadata": {},
   "outputs": [
    {
     "data": {
      "text/plain": [
       "'P'"
      ]
     },
     "execution_count": 59,
     "metadata": {},
     "output_type": "execute_result"
    }
   ],
   "source": [
    "text[0]"
   ]
  },
  {
   "cell_type": "code",
   "execution_count": 60,
   "id": "9172aa0a",
   "metadata": {},
   "outputs": [
    {
     "data": {
      "text/plain": [
       "58"
      ]
     },
     "execution_count": 60,
     "metadata": {},
     "output_type": "execute_result"
    }
   ],
   "source": [
    "len(text)"
   ]
  },
  {
   "cell_type": "code",
   "execution_count": 62,
   "id": "83f094d4",
   "metadata": {},
   "outputs": [
    {
     "data": {
      "text/plain": [
       "1"
      ]
     },
     "execution_count": 62,
     "metadata": {},
     "output_type": "execute_result"
    }
   ],
   "source": [
    "text.count('p')"
   ]
  },
  {
   "cell_type": "code",
   "execution_count": 63,
   "id": "386fef6e",
   "metadata": {},
   "outputs": [
    {
     "name": "stdout",
     "output_type": "stream",
     "text": [
      "data science\n",
      "<class 'str'>\n"
     ]
    }
   ],
   "source": [
    "text = 'data science'\n",
    "print(text)\n",
    "print(type(text))"
   ]
  },
  {
   "cell_type": "code",
   "execution_count": 65,
   "id": "c46ca781",
   "metadata": {},
   "outputs": [
    {
     "data": {
      "text/plain": [
       "'d'"
      ]
     },
     "execution_count": 65,
     "metadata": {},
     "output_type": "execute_result"
    }
   ],
   "source": [
    "# fetch d from text\n",
    "text[0]"
   ]
  },
  {
   "cell_type": "code",
   "execution_count": 66,
   "id": "b9b74e90",
   "metadata": {},
   "outputs": [
    {
     "data": {
      "text/plain": [
       "'sc'"
      ]
     },
     "execution_count": 66,
     "metadata": {},
     "output_type": "execute_result"
    }
   ],
   "source": [
    "# fetch sc from text\n",
    "text[5:7]"
   ]
  },
  {
   "cell_type": "code",
   "execution_count": 67,
   "id": "ab0dee9d",
   "metadata": {},
   "outputs": [
    {
     "data": {
      "text/plain": [
       "'scienc'"
      ]
     },
     "execution_count": 67,
     "metadata": {},
     "output_type": "execute_result"
    }
   ],
   "source": [
    "#fetch scien from text\n",
    "text[5:11]"
   ]
  },
  {
   "cell_type": "code",
   "execution_count": 69,
   "id": "478bce11",
   "metadata": {},
   "outputs": [
    {
     "data": {
      "text/plain": [
       "'science'"
      ]
     },
     "execution_count": 69,
     "metadata": {},
     "output_type": "execute_result"
    }
   ],
   "source": [
    "# fetch science from text\n",
    "text[5:]"
   ]
  },
  {
   "cell_type": "code",
   "execution_count": 71,
   "id": "90dd73a1",
   "metadata": {},
   "outputs": [
    {
     "data": {
      "text/plain": [
       "'aasi'"
      ]
     },
     "execution_count": 71,
     "metadata": {},
     "output_type": "execute_result"
    }
   ],
   "source": [
    "# fetch aasi from text\n",
    "text[1:9:2]"
   ]
  },
  {
   "cell_type": "markdown",
   "id": "bc084665",
   "metadata": {},
   "source": [
    "# indexing and slicing with sets"
   ]
  },
  {
   "cell_type": "code",
   "execution_count": 72,
   "id": "140ff857",
   "metadata": {},
   "outputs": [
    {
     "name": "stdout",
     "output_type": "stream",
     "text": [
      "{70, 40, 10, 80, 50, 20, 90, 60, 30}\n"
     ]
    }
   ],
   "source": [
    "A = {10,20,30,40,50,60,70,80,90}\n",
    "print(A)"
   ]
  },
  {
   "cell_type": "code",
   "execution_count": 75,
   "id": "9088142d",
   "metadata": {},
   "outputs": [
    {
     "ename": "TypeError",
     "evalue": "'set' object is not subscriptable",
     "output_type": "error",
     "traceback": [
      "\u001b[31m---------------------------------------------------------------------------\u001b[39m",
      "\u001b[31mTypeError\u001b[39m                                 Traceback (most recent call last)",
      "\u001b[36mCell\u001b[39m\u001b[36m \u001b[39m\u001b[32mIn[75]\u001b[39m\u001b[32m, line 2\u001b[39m\n\u001b[32m      1\u001b[39m \u001b[38;5;66;03m# fetch 10 from set A\u001b[39;00m\n\u001b[32m----> \u001b[39m\u001b[32m2\u001b[39m \u001b[43mA\u001b[49m\u001b[43m[\u001b[49m\u001b[32;43m0\u001b[39;49m\u001b[43m]\u001b[49m\n",
      "\u001b[31mTypeError\u001b[39m: 'set' object is not subscriptable"
     ]
    }
   ],
   "source": [
    "# fetch 10 from set A\n",
    "A[0]"
   ]
  },
  {
   "cell_type": "markdown",
   "id": "be4ee07e",
   "metadata": {},
   "source": [
    "# # **Note**\n",
    "Indexing and slicing is not possible with sets since sets are unordered(no fixed positions)."
   ]
  },
  {
   "cell_type": "markdown",
   "id": "efbf1b24",
   "metadata": {},
   "source": [
    "# # Negative Indexing\n",
    "* Process of fetching single element using negative indexes.\n",
    "* Negative index starts with -1\n",
    "* Negative index assigned from right to left."
   ]
  },
  {
   "cell_type": "code",
   "execution_count": 83,
   "id": "8f680d4d",
   "metadata": {},
   "outputs": [
    {
     "name": "stdout",
     "output_type": "stream",
     "text": [
      "[1000, 2000, 3000, 4000, 5000, 6000, 7000, 8000, 9000]\n",
      "<class 'list'>\n"
     ]
    }
   ],
   "source": [
    "A = [1000,2000,3000,4000,5000,6000,7000,8000,9000]\n",
    "print(A)\n",
    "print(type(A))  # list is a data type in python"
   ]
  },
  {
   "cell_type": "code",
   "execution_count": 84,
   "id": "c55748a1",
   "metadata": {},
   "outputs": [
    {
     "data": {
      "text/plain": [
       "9000"
      ]
     },
     "execution_count": 84,
     "metadata": {},
     "output_type": "execute_result"
    }
   ],
   "source": [
    "A[-1]"
   ]
  },
  {
   "cell_type": "code",
   "execution_count": 85,
   "id": "0e58e983",
   "metadata": {},
   "outputs": [
    {
     "data": {
      "text/plain": [
       "[9000, 8000, 7000, 6000, 5000, 4000, 3000]"
      ]
     },
     "execution_count": 85,
     "metadata": {},
     "output_type": "execute_result"
    }
   ],
   "source": [
    "A[-1:-8:-1]"
   ]
  },
  {
   "cell_type": "code",
   "execution_count": 86,
   "id": "00c3326b",
   "metadata": {},
   "outputs": [
    {
     "data": {
      "text/plain": [
       "2000"
      ]
     },
     "execution_count": 86,
     "metadata": {},
     "output_type": "execute_result"
    }
   ],
   "source": [
    "A[-8]"
   ]
  },
  {
   "cell_type": "code",
   "execution_count": 87,
   "id": "797b6908",
   "metadata": {},
   "outputs": [
    {
     "data": {
      "text/plain": [
       "[7000, 8000]"
      ]
     },
     "execution_count": 87,
     "metadata": {},
     "output_type": "execute_result"
    }
   ],
   "source": [
    "A[-3:-1]"
   ]
  },
  {
   "cell_type": "code",
   "execution_count": 88,
   "id": "cffc16c6",
   "metadata": {},
   "outputs": [
    {
     "data": {
      "text/plain": [
       "[2000, 3000]"
      ]
     },
     "execution_count": 88,
     "metadata": {},
     "output_type": "execute_result"
    }
   ],
   "source": [
    "# fetch 2000 ,3000 using negative slicing\n",
    "# var_name[start_ind:end_ind+1]\n",
    "A[-8:-6]"
   ]
  },
  {
   "cell_type": "code",
   "execution_count": 89,
   "id": "a5bf7c50",
   "metadata": {},
   "outputs": [
    {
     "data": {
      "text/plain": [
       "[4000, 5000]"
      ]
     },
     "execution_count": 89,
     "metadata": {},
     "output_type": "execute_result"
    }
   ],
   "source": [
    "# fetch 4000 , 5000 using negative slicing\n",
    "A[-6:-4]"
   ]
  },
  {
   "cell_type": "code",
   "execution_count": 90,
   "id": "edf9364a",
   "metadata": {},
   "outputs": [
    {
     "data": {
      "text/plain": [
       "[2000, 3000, 4000, 5000]"
      ]
     },
     "execution_count": 90,
     "metadata": {},
     "output_type": "execute_result"
    }
   ],
   "source": [
    "# fetch 2000 ,3000,4000,5000 using negative slicing\n",
    "A[-8:-4]"
   ]
  },
  {
   "cell_type": "code",
   "execution_count": 91,
   "id": "e0e5b968",
   "metadata": {},
   "outputs": [
    {
     "data": {
      "text/plain": [
       "[(0, 1000),\n",
       " (1, 2000),\n",
       " (2, 3000),\n",
       " (3, 4000),\n",
       " (4, 5000),\n",
       " (5, 6000),\n",
       " (6, 7000),\n",
       " (7, 8000),\n",
       " (8, 9000)]"
      ]
     },
     "execution_count": 91,
     "metadata": {},
     "output_type": "execute_result"
    }
   ],
   "source": [
    "list(enumerate(A))  # it will give index of all elements in list"
   ]
  },
  {
   "cell_type": "markdown",
   "id": "58243ad8",
   "metadata": {},
   "source": [
    "# left to right--> positive indexing\n",
    "# A[start_index:end_ind+1: step(positive)]\n",
    "\n",
    "# Negativce Indexing: right to left\n",
    "## A[end_index-1:start_index:-1]\n"
   ]
  },
  {
   "cell_type": "markdown",
   "id": "a4480adb",
   "metadata": {},
   "source": [
    "### Negative indexing  and slicing with string"
   ]
  },
  {
   "cell_type": "code",
   "execution_count": 1,
   "id": "deb83b04",
   "metadata": {},
   "outputs": [],
   "source": [
    "text ='data science'"
   ]
  },
  {
   "cell_type": "code",
   "execution_count": 2,
   "id": "e11d319b",
   "metadata": {},
   "outputs": [
    {
     "name": "stdout",
     "output_type": "stream",
     "text": [
      "data science\n",
      "<class 'str'>\n"
     ]
    }
   ],
   "source": [
    "print(text)\n",
    "print(type(text))  # str is a data type in python"
   ]
  },
  {
   "cell_type": "code",
   "execution_count": 4,
   "id": "2669d521",
   "metadata": {},
   "outputs": [
    {
     "data": {
      "text/plain": [
       "'da'"
      ]
     },
     "execution_count": 4,
     "metadata": {},
     "output_type": "execute_result"
    }
   ],
   "source": [
    "text[0:2] # fetching d and a from text"
   ]
  },
  {
   "cell_type": "code",
   "execution_count": 6,
   "id": "f413611a",
   "metadata": {},
   "outputs": [
    {
     "data": {
      "text/plain": [
       "'t'"
      ]
     },
     "execution_count": 6,
     "metadata": {},
     "output_type": "execute_result"
    }
   ],
   "source": [
    "text[-10] # fetching a from text using negative indexing"
   ]
  },
  {
   "cell_type": "code",
   "execution_count": 7,
   "id": "78c48eaa",
   "metadata": {},
   "outputs": [
    {
     "data": {
      "text/plain": [
       "'e'"
      ]
     },
     "execution_count": 7,
     "metadata": {},
     "output_type": "execute_result"
    }
   ],
   "source": [
    "# fetch last e\n",
    "text[-1] # fetching e from text using negative indexing"
   ]
  },
  {
   "cell_type": "code",
   "execution_count": 9,
   "id": "2914e7c7",
   "metadata": {},
   "outputs": [
    {
     "data": {
      "text/plain": [
       "'ata'"
      ]
     },
     "execution_count": 9,
     "metadata": {},
     "output_type": "execute_result"
    }
   ],
   "source": [
    "# fetch ata : left to right\n",
    "text[-11:-8]"
   ]
  },
  {
   "cell_type": "code",
   "execution_count": 10,
   "id": "c93fc9eb",
   "metadata": {},
   "outputs": [
    {
     "data": {
      "text/plain": [
       "'ata'"
      ]
     },
     "execution_count": 10,
     "metadata": {},
     "output_type": "execute_result"
    }
   ],
   "source": [
    "# fetch ata : right to left (step is -1)\n",
    "text[-9:-12:-1]"
   ]
  },
  {
   "cell_type": "code",
   "execution_count": 12,
   "id": "e8f55d8c",
   "metadata": {},
   "outputs": [
    {
     "data": {
      "text/plain": [
       "''"
      ]
     },
     "execution_count": 12,
     "metadata": {},
     "output_type": "execute_result"
    }
   ],
   "source": [
    "text[-9:-12]"
   ]
  },
  {
   "cell_type": "code",
   "execution_count": 14,
   "id": "b0f134e6",
   "metadata": {},
   "outputs": [
    {
     "data": {
      "text/plain": [
       "'cien'"
      ]
     },
     "execution_count": 14,
     "metadata": {},
     "output_type": "execute_result"
    }
   ],
   "source": [
    "# fetch cien: right to left\n",
    "text[-6:-2]"
   ]
  },
  {
   "cell_type": "code",
   "execution_count": 19,
   "id": "34c520c1",
   "metadata": {},
   "outputs": [
    {
     "data": {
      "text/plain": [
       "'ata'"
      ]
     },
     "execution_count": 19,
     "metadata": {},
     "output_type": "execute_result"
    }
   ],
   "source": [
    "# fetch ata : left to right\n",
    "text[-11:-8]"
   ]
  },
  {
   "cell_type": "code",
   "execution_count": 18,
   "id": "b9fe7088",
   "metadata": {},
   "outputs": [
    {
     "data": {
      "text/plain": [
       "' ata'"
      ]
     },
     "execution_count": 18,
     "metadata": {},
     "output_type": "execute_result"
    }
   ],
   "source": [
    "# fetch ata : right to left(step is -1)\n",
    "text[-8:-12:-1]"
   ]
  },
  {
   "cell_type": "code",
   "execution_count": 21,
   "id": "db397758",
   "metadata": {},
   "outputs": [
    {
     "data": {
      "text/plain": [
       "'data'"
      ]
     },
     "execution_count": 21,
     "metadata": {},
     "output_type": "execute_result"
    }
   ],
   "source": [
    "text[-12:-8]"
   ]
  },
  {
   "cell_type": "code",
   "execution_count": 23,
   "id": "397e0f3d",
   "metadata": {},
   "outputs": [
    {
     "data": {
      "text/plain": [
       "'cien'"
      ]
     },
     "execution_count": 23,
     "metadata": {},
     "output_type": "execute_result"
    }
   ],
   "source": [
    "# fetch cien: left to right\n",
    "text[-6:-2]"
   ]
  },
  {
   "cell_type": "code",
   "execution_count": 26,
   "id": "f9741e1b",
   "metadata": {},
   "outputs": [
    {
     "data": {
      "text/plain": [
       "'neic'"
      ]
     },
     "execution_count": 26,
     "metadata": {},
     "output_type": "execute_result"
    }
   ],
   "source": [
    "# fetch neic: right to left\n",
    "text[-3:-7:-1]"
   ]
  },
  {
   "cell_type": "code",
   "execution_count": 28,
   "id": "ee1b250a",
   "metadata": {},
   "outputs": [
    {
     "data": {
      "text/plain": [
       "'scien'"
      ]
     },
     "execution_count": 28,
     "metadata": {},
     "output_type": "execute_result"
    }
   ],
   "source": [
    "# fetch scien\n",
    "\n",
    "text[-7:-2]"
   ]
  },
  {
   "cell_type": "code",
   "execution_count": 30,
   "id": "b84c645c",
   "metadata": {},
   "outputs": [
    {
     "data": {
      "text/plain": [
       "'neics'"
      ]
     },
     "execution_count": 30,
     "metadata": {},
     "output_type": "execute_result"
    }
   ],
   "source": [
    "# fetch neics\n",
    "text[-3:-8:-1]"
   ]
  },
  {
   "cell_type": "code",
   "execution_count": 31,
   "id": "09f592a8",
   "metadata": {},
   "outputs": [
    {
     "data": {
      "text/plain": [
       "'ecneics atad'"
      ]
     },
     "execution_count": 31,
     "metadata": {},
     "output_type": "execute_result"
    }
   ],
   "source": [
    "# reverse the string\n",
    "text[::-1]"
   ]
  },
  {
   "cell_type": "code",
   "execution_count": 32,
   "id": "562b8f4a",
   "metadata": {},
   "outputs": [
    {
     "data": {
      "text/plain": [
       "[9000, 8000, 7000, 6000, 5000, 4000, 3000, 2000, 1000]"
      ]
     },
     "execution_count": 32,
     "metadata": {},
     "output_type": "execute_result"
    }
   ],
   "source": [
    "# reverse the list\n",
    "A = [1000,2000,3000,4000,5000,6000,7000,8000,9000]\n",
    "A[::-1]"
   ]
  },
  {
   "cell_type": "code",
   "execution_count": 34,
   "id": "4f88d3dc",
   "metadata": {},
   "outputs": [
    {
     "data": {
      "text/plain": [
       "(3.14, 'sql', 'Python', 40, 25, 10, 3, False, True)"
      ]
     },
     "execution_count": 34,
     "metadata": {},
     "output_type": "execute_result"
    }
   ],
   "source": [
    "# reverse a tuple\n",
    "a = (True,False,3,10,25,40,'Python','sql',3.14)\n",
    "a[::-1]"
   ]
  },
  {
   "cell_type": "code",
   "execution_count": 36,
   "id": "7530b2c2",
   "metadata": {},
   "outputs": [
    {
     "ename": "TypeError",
     "evalue": "'set' object is not subscriptable",
     "output_type": "error",
     "traceback": [
      "\u001b[31m---------------------------------------------------------------------------\u001b[39m",
      "\u001b[31mTypeError\u001b[39m                                 Traceback (most recent call last)",
      "\u001b[36mCell\u001b[39m\u001b[36m \u001b[39m\u001b[32mIn[36]\u001b[39m\u001b[32m, line 3\u001b[39m\n\u001b[32m      1\u001b[39m \u001b[38;5;66;03m# reverse a set\u001b[39;00m\n\u001b[32m      2\u001b[39m C = {\u001b[32m10\u001b[39m,\u001b[32m20\u001b[39m,\u001b[32m30\u001b[39m,\u001b[32m40\u001b[39m,\u001b[32m50\u001b[39m,\u001b[32m60\u001b[39m,\u001b[32m70\u001b[39m,\u001b[32m80\u001b[39m,\u001b[32m90\u001b[39m}\n\u001b[32m----> \u001b[39m\u001b[32m3\u001b[39m \u001b[43mC\u001b[49m\u001b[43m[\u001b[49m\u001b[43m:\u001b[49m\u001b[43m:\u001b[49m\u001b[43m-\u001b[49m\u001b[32;43m1\u001b[39;49m\u001b[43m]\u001b[49m\n",
      "\u001b[31mTypeError\u001b[39m: 'set' object is not subscriptable"
     ]
    }
   ],
   "source": [
    "# reverse a set\n",
    "C = {10,20,30,40,50,60,70,80,90}\n",
    "C[::-1]"
   ]
  },
  {
   "cell_type": "code",
   "execution_count": 37,
   "id": "de63f4d7",
   "metadata": {},
   "outputs": [
    {
     "data": {
      "text/plain": [
       "'atad'"
      ]
     },
     "execution_count": 37,
     "metadata": {},
     "output_type": "execute_result"
    }
   ],
   "source": [
    "# fetch data first then reverse\n",
    "text[0:4][::-1]"
   ]
  },
  {
   "cell_type": "markdown",
   "id": "064cee7e",
   "metadata": {},
   "source": [
    "# dict\n",
    "It is one of the datastructure used to store values in key-value pair(key:value)\n",
    "## Properties\n",
    "* Dict are ordered\n",
    "* Dict are mutable\n",
    "* No repeatative keys\n",
    "* There can be repeatative values"
   ]
  },
  {
   "cell_type": "markdown",
   "id": "09f300bb",
   "metadata": {},
   "source": [
    "# ways\n",
    "* {key:value}\n",
    "* dict()"
   ]
  },
  {
   "cell_type": "code",
   "execution_count": 40,
   "id": "08d066ad",
   "metadata": {},
   "outputs": [
    {
     "name": "stdout",
     "output_type": "stream",
     "text": [
      "{'name': 'Boomi', 'age': 25, 'Job': 'Datascientist', 'exp': 2}\n",
      "<class 'dict'>\n"
     ]
    }
   ],
   "source": [
    "# create dictionary to store information like name = Boomi , age = 25 , Job= Datascientist , exp=2\n",
    "info = {'name':'Boomi', 'age':25, 'Job':'Datascientist', 'exp':2}\n",
    "print(info)\n",
    "print(type(info))  # dict is a data type in python"
   ]
  },
  {
   "cell_type": "code",
   "execution_count": 41,
   "id": "457ac396",
   "metadata": {},
   "outputs": [
    {
     "name": "stdout",
     "output_type": "stream",
     "text": [
      "{1: 1, 2: 'two', 'days': ['Mon', 'Tues', 'Wed']}\n"
     ]
    }
   ],
   "source": [
    "# create dictionary to store given data 1= one , 2= two , days=Mon,Tues,Wed , True = 1\n",
    "data = {1:'one', 2:'two', 'days':['Mon','Tues','Wed'], True:1}\n",
    "print(data)"
   ]
  },
  {
   "cell_type": "code",
   "execution_count": 42,
   "id": "051ecf42",
   "metadata": {},
   "outputs": [
    {
     "name": "stdout",
     "output_type": "stream",
     "text": [
      "{True: 10, False: 2000}\n"
     ]
    }
   ],
   "source": [
    "B ={True:100 ,1 :10 , False :200 , 0:2000}\n",
    "print(B)"
   ]
  },
  {
   "cell_type": "code",
   "execution_count": 44,
   "id": "9567eb01",
   "metadata": {},
   "outputs": [
    {
     "data": {
      "text/plain": [
       "{'name': 'Mary'}"
      ]
     },
     "execution_count": 44,
     "metadata": {},
     "output_type": "execute_result"
    }
   ],
   "source": [
    "C ={'name':'John','name':\"Mary\"}\n",
    "C\n"
   ]
  },
  {
   "cell_type": "code",
   "execution_count": 45,
   "id": "b2514053",
   "metadata": {},
   "outputs": [
    {
     "data": {
      "text/plain": [
       "{1: 10}"
      ]
     },
     "execution_count": 45,
     "metadata": {},
     "output_type": "execute_result"
    }
   ],
   "source": [
    "B ={1:100 ,1 :10}\n",
    "B"
   ]
  },
  {
   "cell_type": "code",
   "execution_count": 46,
   "id": "435e5163",
   "metadata": {},
   "outputs": [
    {
     "data": {
      "text/plain": [
       "{True: 10}"
      ]
     },
     "execution_count": 46,
     "metadata": {},
     "output_type": "execute_result"
    }
   ],
   "source": [
    "B ={True:100 ,1 :10}\n",
    "B"
   ]
  },
  {
   "cell_type": "code",
   "execution_count": 48,
   "id": "479f4044",
   "metadata": {},
   "outputs": [
    {
     "data": {
      "text/plain": [
       "{1: 10}"
      ]
     },
     "execution_count": 48,
     "metadata": {},
     "output_type": "execute_result"
    }
   ],
   "source": [
    "C ={1:100 ,True :10}\n",
    "C\n",
    "# when keys are repeated it takes latest value but first key name"
   ]
  },
  {
   "cell_type": "code",
   "execution_count": 49,
   "id": "68ca9970",
   "metadata": {},
   "outputs": [
    {
     "data": {
      "text/plain": [
       "{1: 20, False: 200}"
      ]
     },
     "execution_count": 49,
     "metadata": {},
     "output_type": "execute_result"
    }
   ],
   "source": [
    "_dic = {1:100 , False: 200, True : 20}\n",
    "_dic"
   ]
  },
  {
   "cell_type": "code",
   "execution_count": 50,
   "id": "628fc5b2",
   "metadata": {},
   "outputs": [
    {
     "data": {
      "text/plain": [
       "{'maths': 100, 'science': 70, 'Hindi': 50}"
      ]
     },
     "execution_count": 50,
     "metadata": {},
     "output_type": "execute_result"
    }
   ],
   "source": [
    "# dict\n",
    "A = dict({'maths':100 , 'science':70,'Hindi':50})\n",
    "A"
   ]
  },
  {
   "cell_type": "code",
   "execution_count": 52,
   "id": "b9a20c16",
   "metadata": {},
   "outputs": [
    {
     "name": "stdout",
     "output_type": "stream",
     "text": [
      "{'name': 'Boomi', 'age': 25, 'job': 'datascientist', 'exp': 2}\n",
      "<class 'dict'>\n"
     ]
    }
   ],
   "source": [
    "info = {'name':'Boomi','age':25,'job':'datascientist','exp':2}\n",
    "print(info)\n",
    "print(type(info))"
   ]
  },
  {
   "cell_type": "markdown",
   "id": "4b6da143",
   "metadata": {},
   "source": [
    "# To fetch elements from dict use keys as index\n"
   ]
  },
  {
   "cell_type": "code",
   "execution_count": 54,
   "id": "0f38e584",
   "metadata": {},
   "outputs": [
    {
     "data": {
      "text/plain": [
       "'Boomi'"
      ]
     },
     "execution_count": 54,
     "metadata": {},
     "output_type": "execute_result"
    }
   ],
   "source": [
    "# extract employee name\n",
    "info['name']"
   ]
  },
  {
   "cell_type": "code",
   "execution_count": 55,
   "id": "fcdc1129",
   "metadata": {},
   "outputs": [
    {
     "data": {
      "text/plain": [
       "2"
      ]
     },
     "execution_count": 55,
     "metadata": {},
     "output_type": "execute_result"
    }
   ],
   "source": [
    "# extract exp\n",
    "info['exp']"
   ]
  },
  {
   "cell_type": "code",
   "execution_count": 56,
   "id": "a5f13820",
   "metadata": {},
   "outputs": [
    {
     "data": {
      "text/plain": [
       "25"
      ]
     },
     "execution_count": 56,
     "metadata": {},
     "output_type": "execute_result"
    }
   ],
   "source": [
    "# get\n",
    "# fetch age of boomi\n",
    "info.get('age')"
   ]
  },
  {
   "cell_type": "code",
   "execution_count": 57,
   "id": "d8ffd95b",
   "metadata": {},
   "outputs": [
    {
     "data": {
      "text/plain": [
       "dict_values(['Boomi', 25, 'datascientist', 2])"
      ]
     },
     "execution_count": 57,
     "metadata": {},
     "output_type": "execute_result"
    }
   ],
   "source": [
    "# get all the values of dict\n",
    "info.values()"
   ]
  },
  {
   "cell_type": "code",
   "execution_count": 59,
   "id": "1b0910ad",
   "metadata": {},
   "outputs": [
    {
     "data": {
      "text/plain": [
       "dict_keys(['name', 'age', 'job', 'exp'])"
      ]
     },
     "execution_count": 59,
     "metadata": {},
     "output_type": "execute_result"
    }
   ],
   "source": [
    "# get all the keys\n",
    "info.keys()"
   ]
  },
  {
   "cell_type": "code",
   "execution_count": 60,
   "id": "f4f07fbc",
   "metadata": {},
   "outputs": [
    {
     "data": {
      "text/plain": [
       "dict_items([('name', 'Boomi'), ('age', 25), ('job', 'datascientist'), ('exp', 2)])"
      ]
     },
     "execution_count": 60,
     "metadata": {},
     "output_type": "execute_result"
    }
   ],
   "source": [
    "# get key -value pair\n",
    "info.items()"
   ]
  },
  {
   "cell_type": "code",
   "execution_count": 63,
   "id": "e41ec9d2",
   "metadata": {},
   "outputs": [
    {
     "data": {
      "text/plain": [
       "40"
      ]
     },
     "execution_count": 63,
     "metadata": {},
     "output_type": "execute_result"
    }
   ],
   "source": [
    "A = {'name':'Ridaa','Age':40,'companies':['IBM','Oracle','Amazon'],'exp':(5,6,3)}\n",
    "# fetch Age\n",
    "A['Age']"
   ]
  },
  {
   "cell_type": "code",
   "execution_count": 64,
   "id": "5e3fbdc3",
   "metadata": {},
   "outputs": [
    {
     "data": {
      "text/plain": [
       "['IBM', 'Oracle', 'Amazon']"
      ]
     },
     "execution_count": 64,
     "metadata": {},
     "output_type": "execute_result"
    }
   ],
   "source": [
    "# fetch all companies\n",
    "A[\"companies\"]"
   ]
  },
  {
   "cell_type": "code",
   "execution_count": 65,
   "id": "3454dc42",
   "metadata": {},
   "outputs": [
    {
     "data": {
      "text/plain": [
       "'Oracle'"
      ]
     },
     "execution_count": 65,
     "metadata": {},
     "output_type": "execute_result"
    }
   ],
   "source": [
    "# fetch Oracle\n",
    "A['companies'][1]  # fetch Oracle"
   ]
  },
  {
   "cell_type": "code",
   "execution_count": 66,
   "id": "f3e36705",
   "metadata": {},
   "outputs": [
    {
     "data": {
      "text/plain": [
       "'Amazon'"
      ]
     },
     "execution_count": 66,
     "metadata": {},
     "output_type": "execute_result"
    }
   ],
   "source": [
    "A['companies'][2]"
   ]
  },
  {
   "cell_type": "code",
   "execution_count": 68,
   "id": "4738a5e6",
   "metadata": {},
   "outputs": [
    {
     "data": {
      "text/plain": [
       "'IBM'"
      ]
     },
     "execution_count": 68,
     "metadata": {},
     "output_type": "execute_result"
    }
   ],
   "source": [
    "A['companies'][0]"
   ]
  },
  {
   "cell_type": "code",
   "execution_count": 73,
   "id": "e2463ef4",
   "metadata": {},
   "outputs": [
    {
     "data": {
      "text/plain": [
       "['Oracle', 'Amazon']"
      ]
     },
     "execution_count": 73,
     "metadata": {},
     "output_type": "execute_result"
    }
   ],
   "source": [
    "# fetch \"Oracle\",\"Amazon\"\n",
    "A['companies'][1:3]"
   ]
  },
  {
   "cell_type": "code",
   "execution_count": 75,
   "id": "87570943",
   "metadata": {},
   "outputs": [
    {
     "data": {
      "text/plain": [
       "['Oracle', 'Amazon']"
      ]
     },
     "execution_count": 75,
     "metadata": {},
     "output_type": "execute_result"
    }
   ],
   "source": [
    "A['companies'][1:]"
   ]
  },
  {
   "cell_type": "code",
   "execution_count": 76,
   "id": "dfd686eb",
   "metadata": {},
   "outputs": [
    {
     "data": {
      "text/plain": [
       "6"
      ]
     },
     "execution_count": 76,
     "metadata": {},
     "output_type": "execute_result"
    }
   ],
   "source": [
    "#fetch exp 6\n",
    "A['exp'][1]"
   ]
  },
  {
   "cell_type": "code",
   "execution_count": 79,
   "id": "d8c2dd82",
   "metadata": {},
   "outputs": [
    {
     "data": {
      "text/plain": [
       "(5, 3)"
      ]
     },
     "execution_count": 79,
     "metadata": {},
     "output_type": "execute_result"
    }
   ],
   "source": [
    "# fetch 5 , 3\n",
    "\n",
    "A['exp'][::2]"
   ]
  },
  {
   "cell_type": "code",
   "execution_count": 83,
   "id": "db4f359c",
   "metadata": {},
   "outputs": [
    {
     "data": {
      "text/plain": [
       "(5, 3)"
      ]
     },
     "execution_count": 83,
     "metadata": {},
     "output_type": "execute_result"
    }
   ],
   "source": [
    "A['exp'][0:3:2]"
   ]
  },
  {
   "cell_type": "markdown",
   "id": "0db1214c",
   "metadata": {},
   "source": [
    "# strings\n",
    "* Strings are ordered\n",
    "* Strings are Immutable"
   ]
  },
  {
   "cell_type": "code",
   "execution_count": 84,
   "id": "a19ef5eb",
   "metadata": {},
   "outputs": [
    {
     "ename": "TypeError",
     "evalue": "'str' object does not support item assignment",
     "output_type": "error",
     "traceback": [
      "\u001b[31m---------------------------------------------------------------------------\u001b[39m",
      "\u001b[31mTypeError\u001b[39m                                 Traceback (most recent call last)",
      "\u001b[36mCell\u001b[39m\u001b[36m \u001b[39m\u001b[32mIn[84]\u001b[39m\u001b[32m, line 4\u001b[39m\n\u001b[32m      1\u001b[39m A =\u001b[33m'\u001b[39m\u001b[33mpython\u001b[39m\u001b[33m'\u001b[39m\n\u001b[32m      2\u001b[39m \u001b[38;5;66;03m# change p as q\u001b[39;00m\n\u001b[32m      3\u001b[39m \u001b[38;5;66;03m# fetch p\u001b[39;00m\n\u001b[32m----> \u001b[39m\u001b[32m4\u001b[39m \u001b[43mA\u001b[49m\u001b[43m[\u001b[49m\u001b[32;43m0\u001b[39;49m\u001b[43m]\u001b[49m=\u001b[33m'\u001b[39m\u001b[33mq\u001b[39m\u001b[33m'\u001b[39m\n\u001b[32m      5\u001b[39m \u001b[38;5;66;03m# changing elemnts in string is not possible so string is immutable.\u001b[39;00m\n",
      "\u001b[31mTypeError\u001b[39m: 'str' object does not support item assignment"
     ]
    }
   ],
   "source": [
    "A ='python'\n",
    "# change p as q\n",
    "# fetch p\n",
    "A[0]='q'\n",
    "# changing elemnts in string is not possible so string is immutable."
   ]
  },
  {
   "cell_type": "markdown",
   "id": "c881eaa9",
   "metadata": {},
   "source": [
    "# List\n",
    "* ordered\n",
    "* Mutable"
   ]
  },
  {
   "cell_type": "code",
   "execution_count": 86,
   "id": "5c8e9753",
   "metadata": {},
   "outputs": [
    {
     "data": {
      "text/plain": [
       "[100, 200, 300, 400, 500]"
      ]
     },
     "execution_count": 86,
     "metadata": {},
     "output_type": "execute_result"
    }
   ],
   "source": [
    "A = [100 ,200,'a',400,500]\n",
    "# change 'a' as 300\n",
    "# fetch 'a'\n",
    "A[2] = 300\n",
    "A"
   ]
  },
  {
   "cell_type": "code",
   "execution_count": 87,
   "id": "cafcebdf",
   "metadata": {},
   "outputs": [],
   "source": [
    "B = [1,2,3,\"four\",\"five\",\"six\",\"seven\"]\n",
    "# change four as 4\n",
    "B[3] = 4"
   ]
  },
  {
   "cell_type": "code",
   "execution_count": 88,
   "id": "4c4c98c0",
   "metadata": {},
   "outputs": [
    {
     "data": {
      "text/plain": [
       "[1, 2, 3, 4, 'five', 'six', 'seven']"
      ]
     },
     "execution_count": 88,
     "metadata": {},
     "output_type": "execute_result"
    }
   ],
   "source": [
    "B"
   ]
  },
  {
   "cell_type": "code",
   "execution_count": 89,
   "id": "9bd4c205",
   "metadata": {},
   "outputs": [],
   "source": [
    "# change five as 5 , six as 6\n",
    "# fetch five , six first\n",
    "B[4] = 5\n",
    "B[5] = 6\n"
   ]
  },
  {
   "cell_type": "code",
   "execution_count": 90,
   "id": "b3751923",
   "metadata": {},
   "outputs": [
    {
     "data": {
      "text/plain": [
       "[1, 2, 3, 4, 5, 6, 'seven']"
      ]
     },
     "execution_count": 90,
     "metadata": {},
     "output_type": "execute_result"
    }
   ],
   "source": [
    "B"
   ]
  },
  {
   "cell_type": "code",
   "execution_count": 94,
   "id": "6db54db7",
   "metadata": {},
   "outputs": [
    {
     "data": {
      "text/plain": [
       "[1, 2, 3, 'four', 5, 6, 'seven']"
      ]
     },
     "execution_count": 94,
     "metadata": {},
     "output_type": "execute_result"
    }
   ],
   "source": [
    "B = [1,2,3,\"four\",\"five\",\"six\",\"seven\"]\n",
    "# change five as 5 , six as 6\n",
    "B[4:6] = [5,6]\n",
    "B"
   ]
  },
  {
   "cell_type": "code",
   "execution_count": 96,
   "id": "2e2c2aa9",
   "metadata": {},
   "outputs": [
    {
     "data": {
      "text/plain": [
       "[1, 2, 3, 4, 5, 6, 'seven']"
      ]
     },
     "execution_count": 96,
     "metadata": {},
     "output_type": "execute_result"
    }
   ],
   "source": [
    "B[3] = 4\n",
    "B"
   ]
  },
  {
   "cell_type": "code",
   "execution_count": 97,
   "id": "270d6ee3",
   "metadata": {},
   "outputs": [],
   "source": [
    "C = [1,2,3,4,'a','b','c',6]\n",
    "# change a,b,c as 5\n",
    "C[4:7] = [5]"
   ]
  },
  {
   "cell_type": "code",
   "execution_count": 98,
   "id": "af734292",
   "metadata": {},
   "outputs": [
    {
     "data": {
      "text/plain": [
       "[1, 2, 3, 4, 5, 6]"
      ]
     },
     "execution_count": 98,
     "metadata": {},
     "output_type": "execute_result"
    }
   ],
   "source": [
    "C"
   ]
  },
  {
   "cell_type": "markdown",
   "id": "b511e32b",
   "metadata": {},
   "source": [
    "# Tuples\n",
    "* Ordered\n",
    "* Immutable"
   ]
  },
  {
   "cell_type": "code",
   "execution_count": 99,
   "id": "719fad25",
   "metadata": {},
   "outputs": [
    {
     "ename": "TypeError",
     "evalue": "'tuple' object does not support item assignment",
     "output_type": "error",
     "traceback": [
      "\u001b[31m---------------------------------------------------------------------------\u001b[39m",
      "\u001b[31mTypeError\u001b[39m                                 Traceback (most recent call last)",
      "\u001b[36mCell\u001b[39m\u001b[36m \u001b[39m\u001b[32mIn[99]\u001b[39m\u001b[32m, line 3\u001b[39m\n\u001b[32m      1\u001b[39m A =(\u001b[32m1\u001b[39m,\u001b[32m2\u001b[39m,\u001b[32m3\u001b[39m,\u001b[32m4\u001b[39m,\u001b[32m5\u001b[39m)\n\u001b[32m      2\u001b[39m \u001b[38;5;66;03m# change 3 as three\u001b[39;00m\n\u001b[32m----> \u001b[39m\u001b[32m3\u001b[39m \u001b[43mA\u001b[49m\u001b[43m[\u001b[49m\u001b[32;43m2\u001b[39;49m\u001b[43m]\u001b[49m = \u001b[33m'\u001b[39m\u001b[33mthree\u001b[39m\u001b[33m'\u001b[39m\n",
      "\u001b[31mTypeError\u001b[39m: 'tuple' object does not support item assignment"
     ]
    }
   ],
   "source": [
    "A =(1,2,3,4,5)\n",
    "# change 3 as three\n",
    "A[2] = 'three'"
   ]
  },
  {
   "cell_type": "markdown",
   "id": "b2b6ba05",
   "metadata": {},
   "source": [
    "# sets\n",
    "* Unordered\n",
    "* Sets are Mutable , but set elements are immutable."
   ]
  },
  {
   "cell_type": "code",
   "execution_count": 101,
   "id": "397662d3",
   "metadata": {},
   "outputs": [
    {
     "ename": "TypeError",
     "evalue": "'set' object is not subscriptable",
     "output_type": "error",
     "traceback": [
      "\u001b[31m---------------------------------------------------------------------------\u001b[39m",
      "\u001b[31mTypeError\u001b[39m                                 Traceback (most recent call last)",
      "\u001b[36mCell\u001b[39m\u001b[36m \u001b[39m\u001b[32mIn[101]\u001b[39m\u001b[32m, line 3\u001b[39m\n\u001b[32m      1\u001b[39m A ={\u001b[32m1\u001b[39m,\u001b[32m2\u001b[39m,\u001b[32m3\u001b[39m,\u001b[32m4\u001b[39m}\n\u001b[32m      2\u001b[39m \u001b[38;5;66;03m# change 3 as three\u001b[39;00m\n\u001b[32m----> \u001b[39m\u001b[32m3\u001b[39m \u001b[43mA\u001b[49m\u001b[43m[\u001b[49m\u001b[32;43m0\u001b[39;49m\u001b[43m]\u001b[49m\n\u001b[32m      4\u001b[39m A[\u001b[32m2\u001b[39m] = \u001b[33m'\u001b[39m\u001b[33mthree\u001b[39m\u001b[33m'\u001b[39m\n",
      "\u001b[31mTypeError\u001b[39m: 'set' object is not subscriptable"
     ]
    }
   ],
   "source": [
    "A ={1,2,3,4}\n",
    "# change 3 as three\n",
    "A[0]\n",
    "A[2] = 'three'"
   ]
  },
  {
   "cell_type": "markdown",
   "id": "6b9c9e5c",
   "metadata": {},
   "source": [
    "# dict\n",
    "* ordered\n",
    "* Mutable"
   ]
  },
  {
   "cell_type": "code",
   "execution_count": 102,
   "id": "54915e59",
   "metadata": {},
   "outputs": [
    {
     "data": {
      "text/plain": [
       "{'name': 'Jeevitha', 'job': 'Data Sccientist', 'place': 'Bangalore'}"
      ]
     },
     "execution_count": 102,
     "metadata": {},
     "output_type": "execute_result"
    }
   ],
   "source": [
    "A ={'name':'Jeevitha','job':'Data Sccientist','place':'Bangalore'}\n",
    "A"
   ]
  },
  {
   "cell_type": "code",
   "execution_count": 103,
   "id": "73e34685",
   "metadata": {},
   "outputs": [],
   "source": [
    "# change name as Zara\n",
    "A['name'] = 'Zara'"
   ]
  },
  {
   "cell_type": "code",
   "execution_count": 104,
   "id": "437c0221",
   "metadata": {},
   "outputs": [
    {
     "data": {
      "text/plain": [
       "{'name': 'Zara', 'job': 'Data Sccientist', 'place': 'Bangalore'}"
      ]
     },
     "execution_count": 104,
     "metadata": {},
     "output_type": "execute_result"
    }
   ],
   "source": [
    "A"
   ]
  },
  {
   "cell_type": "code",
   "execution_count": 105,
   "id": "020d2909",
   "metadata": {},
   "outputs": [],
   "source": [
    "# update place as Mumbai\n",
    "A['place'] = 'Mumbai'"
   ]
  },
  {
   "cell_type": "code",
   "execution_count": 106,
   "id": "25f82f1e",
   "metadata": {},
   "outputs": [
    {
     "data": {
      "text/plain": [
       "{'name': 'Zara', 'job': 'Data Sccientist', 'place': 'Mumbai'}"
      ]
     },
     "execution_count": 106,
     "metadata": {},
     "output_type": "execute_result"
    }
   ],
   "source": [
    "A"
   ]
  },
  {
   "cell_type": "code",
   "execution_count": 107,
   "id": "3a72562a",
   "metadata": {},
   "outputs": [
    {
     "name": "stdout",
     "output_type": "stream",
     "text": [
      "{'name': 'Zara', 'job': 'Data Sccientist', 'place': 'Mumbai'}\n"
     ]
    }
   ],
   "source": [
    "print(A)"
   ]
  },
  {
   "cell_type": "markdown",
   "id": "ac8b9cdc",
   "metadata": {},
   "source": [
    "# Thank you"
   ]
  },
  {
   "cell_type": "code",
   "execution_count": null,
   "id": "35d93c27",
   "metadata": {},
   "outputs": [],
   "source": []
  }
 ],
 "metadata": {
  "kernelspec": {
   "display_name": "Python 3",
   "language": "python",
   "name": "python3"
  },
  "language_info": {
   "codemirror_mode": {
    "name": "ipython",
    "version": 3
   },
   "file_extension": ".py",
   "mimetype": "text/x-python",
   "name": "python",
   "nbconvert_exporter": "python",
   "pygments_lexer": "ipython3",
   "version": "3.13.7"
  }
 },
 "nbformat": 4,
 "nbformat_minor": 5
}
