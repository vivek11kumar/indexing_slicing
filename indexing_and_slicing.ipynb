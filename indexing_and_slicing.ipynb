{
 "cells": [
  {
   "cell_type": "markdown",
   "id": "a4a24ee7",
   "metadata": {},
   "source": [
    "# Indexing and Slicing"
   ]
  },
  {
   "cell_type": "markdown",
   "id": "5e663464",
   "metadata": {},
   "source": [
    "# Indexing\n",
    "\n",
    "It is a process of fetching specific element from string or list or tuple using indexes.\n",
    "\n",
    "* Positive Indexing\n",
    "* Negative Indexing"
   ]
  },
  {
   "cell_type": "markdown",
   "id": "73da9e53",
   "metadata": {},
   "source": [
    "# Positive Indexing\n",
    "\n",
    "It is process of fetching single element from string or list or tuple using positive indexes.\n",
    "\n",
    "Positive index always starts with 0"
   ]
  },
  {
   "cell_type": "markdown",
   "id": "eb068b9b",
   "metadata": {},
   "source": [
    "# Positive indexing with list"
   ]
  },
  {
   "cell_type": "code",
   "execution_count": 1,
   "id": "c1e97f96",
   "metadata": {},
   "outputs": [
    {
     "name": "stdout",
     "output_type": "stream",
     "text": [
      "['red', 'green', 'blue', 'orange', 'yellow', 'black', 'white', 'pink', 'purple']\n",
      "<class 'list'>\n"
     ]
    }
   ],
   "source": [
    "colors = ['red', 'green', 'blue', 'orange', 'yellow', 'black', 'white', 'pink', 'purple']\n",
    "colors\n",
    "print(colors)\n",
    "print(type(colors))  # list is a data type in python"
   ]
  },
  {
   "cell_type": "code",
   "execution_count": null,
   "id": "8a54ce7c",
   "metadata": {},
   "outputs": [],
   "source": []
  }
 ],
 "metadata": {
  "kernelspec": {
   "display_name": "Python 3",
   "language": "python",
   "name": "python3"
  },
  "language_info": {
   "codemirror_mode": {
    "name": "ipython",
    "version": 3
   },
   "file_extension": ".py",
   "mimetype": "text/x-python",
   "name": "python",
   "nbconvert_exporter": "python",
   "pygments_lexer": "ipython3",
   "version": "3.13.7"
  }
 },
 "nbformat": 4,
 "nbformat_minor": 5
}
